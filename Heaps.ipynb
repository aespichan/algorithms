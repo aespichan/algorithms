{
 "cells": [
  {
   "cell_type": "markdown",
   "id": "917e0245-a152-4174-b05b-fd008ef09cf3",
   "metadata": {},
   "source": [
    "### Implementing min heap"
   ]
  },
  {
   "cell_type": "code",
   "execution_count": 1,
   "id": "e430ab32-452c-4658-bc6c-ded820199e7e",
   "metadata": {},
   "outputs": [],
   "source": [
    "class MinIntHeap:\n",
    "    def __init__(self):\n",
    "        self.items = []\n",
    "    \n",
    "    def __get_left_child_index(self, index):\n",
    "        return 2 * index + 1\n",
    "    \n",
    "    def __get_right_child_index(self, index):\n",
    "        return 2 * index + 2\n",
    "    \n",
    "    def __get_parent_index(self, index):\n",
    "        return (index - 1) // 2\n",
    "    \n",
    "    def __has_left_child(self, index):\n",
    "        return self.__get_left_child_index(index) < len(self.items)\n",
    "        \n",
    "    def __has_right_child(self, index):\n",
    "        return self.__get_right_child_index(index) < len(self.items)\n",
    "        \n",
    "    def __has_parent(self, index):\n",
    "        return self.__get_parent_index(index) >= 0\n",
    "        \n",
    "    def __left_child(self, index):\n",
    "        return self.items[self.__get_left_child_index(index)]\n",
    "    \n",
    "    def __right_child(self, index):\n",
    "        return self.items[self.__get_right_child_index(index)]\n",
    "    \n",
    "    def __parent(self, index):\n",
    "        return self.items[self.__get_parent_index(index)]\n",
    "    \n",
    "    def __swap(self, index_one, index_two):\n",
    "        self.items[index_one], self.items[index_two] = self.items[index_two], self.items[index_one]\n",
    "        \n",
    "    def __heapify_up(self):\n",
    "        index = len(self.items) - 1\n",
    "        while self.__has_parent(index) and self.__parent(index) > self.items[index]:\n",
    "            self.__swap(index, self.__get_parent_index(index))\n",
    "            index = self.__get_parent_index(index)\n",
    "            \n",
    "    def __heapify_down(self):\n",
    "        index = 0\n",
    "        while self.__has_left_child(index):\n",
    "            smaller_child_index = self.__get_left_child_index(index)\n",
    "            if self.__has_right_child(index) and self.__right_child(index) < self.__left_child(index):\n",
    "                smaller_child_index = self.__get_right_child_index(index)\n",
    "                \n",
    "            if self.items[index] < self.items[smaller_child_index]:\n",
    "                break\n",
    "            else:\n",
    "                self.__swap(index, smaller_child_index)\n",
    "                index = smaller_child_index\n",
    "    \n",
    "    def peek(self):\n",
    "        if len(self.items) == 0:\n",
    "            raise Exception(\"The heap is empty\")\n",
    "        return self.items[0]\n",
    "    \n",
    "    def poll(self):\n",
    "        if len(self.items) == 0:\n",
    "            raise Exception(\"The heap is empty\")\n",
    "        item = self.items[0]\n",
    "        self.items[0] = self.items.pop()\n",
    "        self.__heapify_down()\n",
    "        \n",
    "        return item\n",
    "    \n",
    "    def add(self, item):\n",
    "        self.items.append(item)\n",
    "        self.__heapify_up()"
   ]
  },
  {
   "cell_type": "code",
   "execution_count": 2,
   "id": "7f17f5bd-04d8-4454-bdf7-0bf537a098cf",
   "metadata": {},
   "outputs": [],
   "source": [
    "heap = MinIntHeap()"
   ]
  },
  {
   "cell_type": "code",
   "execution_count": 3,
   "id": "e48b10f8-c770-49b6-a702-2852c85eaefb",
   "metadata": {},
   "outputs": [],
   "source": [
    "heap.add(15)"
   ]
  },
  {
   "cell_type": "code",
   "execution_count": 4,
   "id": "361e809c-3b02-4a18-90d1-3fb243cbc3af",
   "metadata": {},
   "outputs": [],
   "source": [
    "heap.add(17)"
   ]
  },
  {
   "cell_type": "code",
   "execution_count": 5,
   "id": "a133d4be-408d-43d2-942e-575aa059af43",
   "metadata": {},
   "outputs": [],
   "source": [
    "heap.add(20)"
   ]
  },
  {
   "cell_type": "code",
   "execution_count": 6,
   "id": "f0874737-3167-42f8-8be0-1b3506246b34",
   "metadata": {},
   "outputs": [],
   "source": [
    "heap.add(10)"
   ]
  },
  {
   "cell_type": "code",
   "execution_count": 7,
   "id": "2c4996b7-5aa9-44c8-a14e-3a86e8ad1db6",
   "metadata": {},
   "outputs": [],
   "source": [
    "heap.add(25)"
   ]
  },
  {
   "cell_type": "code",
   "execution_count": 8,
   "id": "d87c0010-9668-4f28-9577-fb1058e14348",
   "metadata": {},
   "outputs": [
    {
     "data": {
      "text/plain": [
       "[10, 15, 20, 17, 25]"
      ]
     },
     "execution_count": 8,
     "metadata": {},
     "output_type": "execute_result"
    }
   ],
   "source": [
    "heap.items"
   ]
  },
  {
   "cell_type": "code",
   "execution_count": 9,
   "id": "52c33f81-9e2c-40e6-a513-998adf618149",
   "metadata": {},
   "outputs": [
    {
     "data": {
      "text/plain": [
       "10"
      ]
     },
     "execution_count": 9,
     "metadata": {},
     "output_type": "execute_result"
    }
   ],
   "source": [
    "heap.peek()"
   ]
  },
  {
   "cell_type": "code",
   "execution_count": 10,
   "id": "440bedeb-2a6e-40e1-92db-6934be71f5fa",
   "metadata": {},
   "outputs": [
    {
     "data": {
      "text/plain": [
       "10"
      ]
     },
     "execution_count": 10,
     "metadata": {},
     "output_type": "execute_result"
    }
   ],
   "source": [
    "heap.poll()"
   ]
  },
  {
   "cell_type": "code",
   "execution_count": 11,
   "id": "de2a98a5-1914-46cb-9043-9a7909f976e0",
   "metadata": {},
   "outputs": [
    {
     "data": {
      "text/plain": [
       "[15, 17, 20, 25]"
      ]
     },
     "execution_count": 11,
     "metadata": {},
     "output_type": "execute_result"
    }
   ],
   "source": [
    "heap.items"
   ]
  },
  {
   "cell_type": "code",
   "execution_count": null,
   "id": "6562a9a6-8ece-4a34-8448-2816300e1313",
   "metadata": {},
   "outputs": [],
   "source": []
  }
 ],
 "metadata": {
  "kernelspec": {
   "display_name": "Python 3 (ipykernel)",
   "language": "python",
   "name": "python3"
  },
  "language_info": {
   "codemirror_mode": {
    "name": "ipython",
    "version": 3
   },
   "file_extension": ".py",
   "mimetype": "text/x-python",
   "name": "python",
   "nbconvert_exporter": "python",
   "pygments_lexer": "ipython3",
   "version": "3.9.13"
  }
 },
 "nbformat": 4,
 "nbformat_minor": 5
}
