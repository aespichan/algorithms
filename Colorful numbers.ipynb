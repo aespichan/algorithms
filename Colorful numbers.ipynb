{
 "cells": [
  {
   "cell_type": "markdown",
   "id": "76142e8e-04ac-4593-aa66-27ea231dd7d3",
   "metadata": {},
   "source": [
    "# **Colorful Numbers**\n",
    "\n",
    "**Objective:** Given a number, find out whether its colorful or not.\n",
    "\n",
    "**Colorful Number:** When in a given number, product of every digit of a sub-sequence are different. That number is called Colorful Number.\n",
    "\n",
    "**Example:**def multiply_sequence_digits(sequence):\n",
    "  product = 1\n",
    "  for digit in sequence:\n",
    "    product *= digit\n",
    "  return product\n",
    "\n",
    "def is_colorful(number):\n",
    "  hash_table = {}\n",
    "  digits = []\n",
    "  for digit in str(number):\n",
    "    digits.append(int(digit))\n",
    "\n",
    "  for num_digits in range(1, len(digits)):\n",
    "    for i in range(len(digits) - num_digits + 1):\n",
    "      sub_sequence = digits[i:i+num_digits]\n",
    "      product = multiply_sequence_digits(sub_sequence)\n",
    "\n",
    "      if product in hash_table:\n",
    "        return False\n",
    "\n",
    "      hash_table[product] = True\n",
    "\n",
    "  return True\n",
    "\n",
    "```\n",
    "Given Number : 3245\n",
    "Output : Colorful\n",
    "Number 3245 can be broken into parts like 3 2 4 5 32 24 45 324 245.\n",
    "this number is a colorful number, since product of every digit of a sub-sequence are different.\n",
    "That is, 3 2 4 5 (3*2)=6 (2*4)=8 (4*5)=20, (3*2*4)= 24 (2*4*5)= 40\n",
    "```\n",
    "```\n",
    "Given Number : 326\n",
    "Output : Not Colorful.\n",
    "326 is not a colorful number as it generates 3 2 6 (3*2)=6 (2*6)=12\n",
    "```\n",
    "\n",
    "Reference : http://www.careercup.com/question?id=4863869499473920"
   ]
  },
  {
   "cell_type": "code",
   "execution_count": 1,
   "id": "0f385584-20df-4762-8fbd-eb0c29558728",
   "metadata": {},
   "outputs": [],
   "source": [
    "def multiply_sequence_digits(sequence: list[int], start: int, end: int) -> int:\n",
    "    product: int = 1\n",
    "    for i in range(start, end):\n",
    "        product *= sequence[i]\n",
    "    return product\n",
    "\n",
    "def is_colorful(number: int) -> bool:\n",
    "    hash_table: dict[int, bool] = {}\n",
    "    digits: list[int] = []\n",
    "    for digit in str(number):\n",
    "        digits.append(int(digit))\n",
    "\n",
    "    for num_digits in range(1, len(digits)):\n",
    "        for i in range(len(digits) - num_digits + 1):\n",
    "            product: int = multiply_sequence_digits(digits, i, i + num_digits)\n",
    "\n",
    "            if product in hash_table:\n",
    "                return False\n",
    "\n",
    "            hash_table[product] = True\n",
    "\n",
    "    return True"
   ]
  },
  {
   "cell_type": "code",
   "execution_count": 2,
   "id": "4fb968d0-62f5-4552-8dea-2607674e80f8",
   "metadata": {},
   "outputs": [
    {
     "data": {
      "text/plain": [
       "True"
      ]
     },
     "execution_count": 2,
     "metadata": {},
     "output_type": "execute_result"
    }
   ],
   "source": [
    "is_colorful(3245)"
   ]
  },
  {
   "cell_type": "code",
   "execution_count": 3,
   "id": "a42f74b4-6c71-4d47-a2d6-0ed828e9a008",
   "metadata": {},
   "outputs": [
    {
     "data": {
      "text/plain": [
       "False"
      ]
     },
     "execution_count": 3,
     "metadata": {},
     "output_type": "execute_result"
    }
   ],
   "source": [
    "is_colorful(326)"
   ]
  }
 ],
 "metadata": {
  "kernelspec": {
   "display_name": "Python 3 (ipykernel)",
   "language": "python",
   "name": "python3"
  },
  "language_info": {
   "codemirror_mode": {
    "name": "ipython",
    "version": 3
   },
   "file_extension": ".py",
   "mimetype": "text/x-python",
   "name": "python",
   "nbconvert_exporter": "python",
   "pygments_lexer": "ipython3",
   "version": "3.9.10"
  }
 },
 "nbformat": 4,
 "nbformat_minor": 5
}
