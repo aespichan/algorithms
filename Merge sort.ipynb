{
 "cells": [
  {
   "cell_type": "code",
   "execution_count": 48,
   "id": "f21f26af-30c6-406c-80da-d5b5402ce22a",
   "metadata": {},
   "outputs": [],
   "source": [
    "def merge_halves(first_half: list[int], last_half: list[int]) -> list[int]:\n",
    "    i = j = 0\n",
    "    merged = []\n",
    "    while i < len(first_half) and j < len(last_half):\n",
    "        if first_half[i] < last_half[j]:\n",
    "            merged.append(first_half[i])\n",
    "            i += 1\n",
    "        else:\n",
    "            merged.append(last_half[j])\n",
    "            j += 1\n",
    "        \n",
    "    while i < len(first_half):\n",
    "        merged.append(first_half[i])\n",
    "        i += 1\n",
    "    while j < len(last_half):\n",
    "        merged.append(last_half[j])\n",
    "        j += 1\n",
    "        \n",
    "    return merged\n",
    "\n",
    "def _mergesort(arr: list[int], start: int, end: int) -> list[int]:\n",
    "    if start == end - 1:\n",
    "        return [arr[start]]\n",
    "    \n",
    "    middle = start + (end - start) // 2\n",
    "    first_half = _mergesort(arr, start, middle)\n",
    "    last_half = _mergesort(arr, middle, end)\n",
    "    return merge_halves(first_half, last_half)\n",
    "\n",
    "def mergesort(arr: list[int]) -> list[int]:\n",
    "    return _mergesort(arr, 0, len(arr))"
   ]
  },
  {
   "cell_type": "code",
   "execution_count": 49,
   "id": "891d2726-bad8-4007-9a71-f89e4205c89b",
   "metadata": {},
   "outputs": [
    {
     "data": {
      "text/plain": [
       "[1]"
      ]
     },
     "execution_count": 49,
     "metadata": {},
     "output_type": "execute_result"
    }
   ],
   "source": [
    "mergesort([1])"
   ]
  },
  {
   "cell_type": "code",
   "execution_count": 50,
   "id": "b8887d30-ca8f-4c97-96fa-6435435fed13",
   "metadata": {},
   "outputs": [
    {
     "data": {
      "text/plain": [
       "[1, 2]"
      ]
     },
     "execution_count": 50,
     "metadata": {},
     "output_type": "execute_result"
    }
   ],
   "source": [
    "mergesort([2, 1])"
   ]
  },
  {
   "cell_type": "code",
   "execution_count": 51,
   "id": "ac71b17d-172f-4503-9207-2a588f92a633",
   "metadata": {},
   "outputs": [
    {
     "data": {
      "text/plain": [
       "[1, 2, 3]"
      ]
     },
     "execution_count": 51,
     "metadata": {},
     "output_type": "execute_result"
    }
   ],
   "source": [
    "mergesort([2, 1, 3])"
   ]
  },
  {
   "cell_type": "code",
   "execution_count": 52,
   "id": "b7c81112-0485-4e2c-b001-c8cdb9f55e8d",
   "metadata": {},
   "outputs": [
    {
     "data": {
      "text/plain": [
       "[1, 2, 3, 4]"
      ]
     },
     "execution_count": 52,
     "metadata": {},
     "output_type": "execute_result"
    }
   ],
   "source": [
    "mergesort([2, 1, 4, 3])"
   ]
  },
  {
   "cell_type": "code",
   "execution_count": 53,
   "id": "de5e3455-0ae9-4f09-a03c-9e20e0a68f08",
   "metadata": {},
   "outputs": [
    {
     "data": {
      "text/plain": [
       "[1, 2, 3, 4, 5]"
      ]
     },
     "execution_count": 53,
     "metadata": {},
     "output_type": "execute_result"
    }
   ],
   "source": [
    "mergesort([2, 5, 1, 4, 3])"
   ]
  },
  {
   "cell_type": "code",
   "execution_count": 54,
   "id": "5dff12c7-b49c-40d9-b959-78aa0a88b4a3",
   "metadata": {},
   "outputs": [
    {
     "data": {
      "text/plain": [
       "[1, 2, 3, 4, 5, 6]"
      ]
     },
     "execution_count": 54,
     "metadata": {},
     "output_type": "execute_result"
    }
   ],
   "source": [
    "mergesort([2, 5, 1, 6, 4, 3])"
   ]
  },
  {
   "cell_type": "code",
   "execution_count": null,
   "id": "82f68361-ffa3-451f-b851-8e73c4a81f0e",
   "metadata": {},
   "outputs": [],
   "source": []
  }
 ],
 "metadata": {
  "kernelspec": {
   "display_name": "Python 3 (ipykernel)",
   "language": "python",
   "name": "python3"
  },
  "language_info": {
   "codemirror_mode": {
    "name": "ipython",
    "version": 3
   },
   "file_extension": ".py",
   "mimetype": "text/x-python",
   "name": "python",
   "nbconvert_exporter": "python",
   "pygments_lexer": "ipython3",
   "version": "3.9.10"
  }
 },
 "nbformat": 4,
 "nbformat_minor": 5
}
